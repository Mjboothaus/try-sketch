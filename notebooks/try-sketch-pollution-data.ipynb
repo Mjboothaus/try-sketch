{
 "cells": [
  {
   "attachments": {},
   "cell_type": "markdown",
   "metadata": {},
   "source": [
    "## Trying out the sketch library\n",
    "\n",
    "https://colab.research.google.com/gist/bluecoconut/410a979d94613ea2aaf29987cf0233bc/sketch-demo.ipynb"
   ]
  },
  {
   "cell_type": "code",
   "execution_count": 1,
   "metadata": {},
   "outputs": [],
   "source": [
    "import pandas as pd"
   ]
  },
  {
   "cell_type": "code",
   "execution_count": 2,
   "metadata": {},
   "outputs": [],
   "source": [
    "DATA_FILE = \"../data/EnterococciDataDownload-20230403-044231.parquet\""
   ]
  },
  {
   "cell_type": "code",
   "execution_count": 3,
   "metadata": {},
   "outputs": [],
   "source": [
    "df = pd.read_parquet(DATA_FILE)"
   ]
  },
  {
   "cell_type": "code",
   "execution_count": 5,
   "metadata": {},
   "outputs": [
    {
     "data": {
      "text/html": [
       "<div>\n",
       "<style scoped>\n",
       "    .dataframe tbody tr th:only-of-type {\n",
       "        vertical-align: middle;\n",
       "    }\n",
       "\n",
       "    .dataframe tbody tr th {\n",
       "        vertical-align: top;\n",
       "    }\n",
       "\n",
       "    .dataframe thead th {\n",
       "        text-align: right;\n",
       "    }\n",
       "</style>\n",
       "<table border=\"1\" class=\"dataframe\">\n",
       "  <thead>\n",
       "    <tr style=\"text-align: right;\">\n",
       "      <th></th>\n",
       "      <th>BeachId</th>\n",
       "      <th>Region</th>\n",
       "      <th>Council</th>\n",
       "      <th>Site</th>\n",
       "      <th>Longitude</th>\n",
       "      <th>Latitude</th>\n",
       "      <th>Date</th>\n",
       "      <th>Enterococci (cfu/100ml)</th>\n",
       "    </tr>\n",
       "  </thead>\n",
       "  <tbody>\n",
       "    <tr>\n",
       "      <th>0</th>\n",
       "      <td>95.0</td>\n",
       "      <td>Botany Bay</td>\n",
       "      <td>Bayside Council</td>\n",
       "      <td>Brighton Le Sands Baths</td>\n",
       "      <td>151.1567</td>\n",
       "      <td>-33.9632</td>\n",
       "      <td>22/02/2023</td>\n",
       "      <td>360.0</td>\n",
       "    </tr>\n",
       "    <tr>\n",
       "      <th>1</th>\n",
       "      <td>95.0</td>\n",
       "      <td>Botany Bay</td>\n",
       "      <td>Bayside Council</td>\n",
       "      <td>Brighton Le Sands Baths</td>\n",
       "      <td>151.1567</td>\n",
       "      <td>-33.9632</td>\n",
       "      <td>21/03/2023</td>\n",
       "      <td>240.0</td>\n",
       "    </tr>\n",
       "    <tr>\n",
       "      <th>2</th>\n",
       "      <td>95.0</td>\n",
       "      <td>Botany Bay</td>\n",
       "      <td>Bayside Council</td>\n",
       "      <td>Brighton Le Sands Baths</td>\n",
       "      <td>151.1567</td>\n",
       "      <td>-33.9632</td>\n",
       "      <td>24/01/2023</td>\n",
       "      <td>0.0</td>\n",
       "    </tr>\n",
       "    <tr>\n",
       "      <th>3</th>\n",
       "      <td>95.0</td>\n",
       "      <td>Botany Bay</td>\n",
       "      <td>Bayside Council</td>\n",
       "      <td>Brighton Le Sands Baths</td>\n",
       "      <td>151.1567</td>\n",
       "      <td>-33.9632</td>\n",
       "      <td>27/02/2023</td>\n",
       "      <td>4.0</td>\n",
       "    </tr>\n",
       "    <tr>\n",
       "      <th>4</th>\n",
       "      <td>95.0</td>\n",
       "      <td>Botany Bay</td>\n",
       "      <td>Bayside Council</td>\n",
       "      <td>Brighton Le Sands Baths</td>\n",
       "      <td>151.1567</td>\n",
       "      <td>-33.9632</td>\n",
       "      <td>12/01/2023</td>\n",
       "      <td>0.0</td>\n",
       "    </tr>\n",
       "  </tbody>\n",
       "</table>\n",
       "</div>"
      ],
      "text/plain": [
       "   BeachId      Region          Council                     Site  Longitude   \n",
       "0     95.0  Botany Bay  Bayside Council  Brighton Le Sands Baths   151.1567  \\\n",
       "1     95.0  Botany Bay  Bayside Council  Brighton Le Sands Baths   151.1567   \n",
       "2     95.0  Botany Bay  Bayside Council  Brighton Le Sands Baths   151.1567   \n",
       "3     95.0  Botany Bay  Bayside Council  Brighton Le Sands Baths   151.1567   \n",
       "4     95.0  Botany Bay  Bayside Council  Brighton Le Sands Baths   151.1567   \n",
       "\n",
       "   Latitude        Date  Enterococci (cfu/100ml)  \n",
       "0  -33.9632  22/02/2023                    360.0  \n",
       "1  -33.9632  21/03/2023                    240.0  \n",
       "2  -33.9632  24/01/2023                      0.0  \n",
       "3  -33.9632  27/02/2023                      4.0  \n",
       "4  -33.9632  12/01/2023                      0.0  "
      ]
     },
     "execution_count": 5,
     "metadata": {},
     "output_type": "execute_result"
    }
   ],
   "source": [
    "df.head()"
   ]
  },
  {
   "cell_type": "code",
   "execution_count": 6,
   "metadata": {},
   "outputs": [
    {
     "name": "stdout",
     "output_type": "stream",
     "text": [
      "<class 'pandas.core.frame.DataFrame'>\n",
      "RangeIndex: 300703 entries, 0 to 300702\n",
      "Data columns (total 8 columns):\n",
      " #   Column                   Non-Null Count   Dtype  \n",
      "---  ------                   --------------   -----  \n",
      " 0   BeachId                  300703 non-null  float64\n",
      " 1   Region                   300703 non-null  object \n",
      " 2   Council                  300703 non-null  object \n",
      " 3   Site                     300703 non-null  object \n",
      " 4   Longitude                300703 non-null  float64\n",
      " 5   Latitude                 300703 non-null  float64\n",
      " 6   Date                     300703 non-null  object \n",
      " 7   Enterococci (cfu/100ml)  262115 non-null  float64\n",
      "dtypes: float64(4), object(4)\n",
      "memory usage: 18.4+ MB\n"
     ]
    }
   ],
   "source": [
    "df.info()"
   ]
  },
  {
   "cell_type": "code",
   "execution_count": 7,
   "metadata": {},
   "outputs": [],
   "source": [
    "import sketch"
   ]
  },
  {
   "cell_type": "code",
   "execution_count": null,
   "metadata": {},
   "outputs": [],
   "source": []
  }
 ],
 "metadata": {
  "kernelspec": {
   "display_name": ".venv",
   "language": "python",
   "name": "python3"
  },
  "language_info": {
   "codemirror_mode": {
    "name": "ipython",
    "version": 3
   },
   "file_extension": ".py",
   "mimetype": "text/x-python",
   "name": "python",
   "nbconvert_exporter": "python",
   "pygments_lexer": "ipython3",
   "version": "3.10.10"
  },
  "orig_nbformat": 4
 },
 "nbformat": 4,
 "nbformat_minor": 2
}
